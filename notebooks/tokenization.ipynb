{
 "cells": [
  {
   "cell_type": "code",
   "execution_count": 2,
   "metadata": {},
   "outputs": [],
   "source": [
    "import pandas as pd\n",
    "import numpy as np"
   ]
  },
  {
   "cell_type": "code",
   "execution_count": 3,
   "metadata": {},
   "outputs": [],
   "source": [
    "data = pd.read_csv('../att+bestbuy.csv', index_col=0)"
   ]
  },
  {
   "cell_type": "code",
   "execution_count": 4,
   "metadata": {},
   "outputs": [
    {
     "data": {
      "text/html": [
       "<div>\n",
       "<style scoped>\n",
       "    .dataframe tbody tr th:only-of-type {\n",
       "        vertical-align: middle;\n",
       "    }\n",
       "\n",
       "    .dataframe tbody tr th {\n",
       "        vertical-align: top;\n",
       "    }\n",
       "\n",
       "    .dataframe thead th {\n",
       "        text-align: right;\n",
       "    }\n",
       "</style>\n",
       "<table border=\"1\" class=\"dataframe\">\n",
       "  <thead>\n",
       "    <tr style=\"text-align: right;\">\n",
       "      <th></th>\n",
       "      <th>0</th>\n",
       "      <th>review_text</th>\n",
       "    </tr>\n",
       "  </thead>\n",
       "  <tbody>\n",
       "    <tr>\n",
       "      <th>0</th>\n",
       "      <td>at&amp;t</td>\n",
       "      <td>I’ve been with Apple since day 1 of 2007 and t...</td>\n",
       "    </tr>\n",
       "    <tr>\n",
       "      <th>1</th>\n",
       "      <td>at&amp;t</td>\n",
       "      <td>I went to this from a 6 and no matter what, tr...</td>\n",
       "    </tr>\n",
       "    <tr>\n",
       "      <th>2</th>\n",
       "      <td>at&amp;t</td>\n",
       "      <td>Love the phone and it’s upgrades however it is...</td>\n",
       "    </tr>\n",
       "    <tr>\n",
       "      <th>3</th>\n",
       "      <td>at&amp;t</td>\n",
       "      <td>I was SUPER excite about getting this phone. P...</td>\n",
       "    </tr>\n",
       "    <tr>\n",
       "      <th>4</th>\n",
       "      <td>at&amp;t</td>\n",
       "      <td>More hype than substance. While the facial rec...</td>\n",
       "    </tr>\n",
       "  </tbody>\n",
       "</table>\n",
       "</div>"
      ],
      "text/plain": [
       "      0                                        review_text\n",
       "0  at&t  I’ve been with Apple since day 1 of 2007 and t...\n",
       "1  at&t  I went to this from a 6 and no matter what, tr...\n",
       "2  at&t  Love the phone and it’s upgrades however it is...\n",
       "3  at&t  I was SUPER excite about getting this phone. P...\n",
       "4  at&t  More hype than substance. While the facial rec..."
      ]
     },
     "execution_count": 4,
     "metadata": {},
     "output_type": "execute_result"
    }
   ],
   "source": [
    "data.head()"
   ]
  },
  {
   "cell_type": "code",
   "execution_count": 5,
   "metadata": {},
   "outputs": [
    {
     "data": {
      "text/plain": [
       "bestbuy    5226\n",
       "at&t        472\n",
       "Name: 0, dtype: int64"
      ]
     },
     "execution_count": 5,
     "metadata": {},
     "output_type": "execute_result"
    }
   ],
   "source": [
    "data.iloc[:,0].value_counts()"
   ]
  },
  {
   "cell_type": "code",
   "execution_count": 6,
   "metadata": {},
   "outputs": [],
   "source": [
    "# Remove ponctuation"
   ]
  },
  {
   "cell_type": "code",
   "execution_count": 7,
   "metadata": {},
   "outputs": [],
   "source": [
    "matrix = str.maketrans(\",\\\"\", \"  \", \"'’.()/-?!\")"
   ]
  },
  {
   "cell_type": "code",
   "execution_count": 8,
   "metadata": {},
   "outputs": [],
   "source": [
    "data[\"review_text\"] = data[\"review_text\"].transform(lambda x: x.translate(matrix))"
   ]
  },
  {
   "cell_type": "code",
   "execution_count": 9,
   "metadata": {},
   "outputs": [
    {
     "data": {
      "text/html": [
       "<div>\n",
       "<style scoped>\n",
       "    .dataframe tbody tr th:only-of-type {\n",
       "        vertical-align: middle;\n",
       "    }\n",
       "\n",
       "    .dataframe tbody tr th {\n",
       "        vertical-align: top;\n",
       "    }\n",
       "\n",
       "    .dataframe thead th {\n",
       "        text-align: right;\n",
       "    }\n",
       "</style>\n",
       "<table border=\"1\" class=\"dataframe\">\n",
       "  <thead>\n",
       "    <tr style=\"text-align: right;\">\n",
       "      <th></th>\n",
       "      <th>0</th>\n",
       "      <th>review_text</th>\n",
       "    </tr>\n",
       "  </thead>\n",
       "  <tbody>\n",
       "    <tr>\n",
       "      <th>0</th>\n",
       "      <td>at&amp;t</td>\n",
       "      <td>Ive been with Apple since day 1 of 2007 and th...</td>\n",
       "    </tr>\n",
       "    <tr>\n",
       "      <th>1</th>\n",
       "      <td>at&amp;t</td>\n",
       "      <td>I went to this from a 6 and no matter what  tr...</td>\n",
       "    </tr>\n",
       "    <tr>\n",
       "      <th>2</th>\n",
       "      <td>at&amp;t</td>\n",
       "      <td>Love the phone and its upgrades however it is ...</td>\n",
       "    </tr>\n",
       "    <tr>\n",
       "      <th>3</th>\n",
       "      <td>at&amp;t</td>\n",
       "      <td>I was SUPER excite about getting this phone Pr...</td>\n",
       "    </tr>\n",
       "    <tr>\n",
       "      <th>4</th>\n",
       "      <td>at&amp;t</td>\n",
       "      <td>More hype than substance While the facial reco...</td>\n",
       "    </tr>\n",
       "  </tbody>\n",
       "</table>\n",
       "</div>"
      ],
      "text/plain": [
       "      0                                        review_text\n",
       "0  at&t  Ive been with Apple since day 1 of 2007 and th...\n",
       "1  at&t  I went to this from a 6 and no matter what  tr...\n",
       "2  at&t  Love the phone and its upgrades however it is ...\n",
       "3  at&t  I was SUPER excite about getting this phone Pr...\n",
       "4  at&t  More hype than substance While the facial reco..."
      ]
     },
     "execution_count": 9,
     "metadata": {},
     "output_type": "execute_result"
    }
   ],
   "source": [
    "data.head()"
   ]
  },
  {
   "cell_type": "code",
   "execution_count": 10,
   "metadata": {},
   "outputs": [],
   "source": [
    "# Tokenize"
   ]
  },
  {
   "cell_type": "code",
   "execution_count": 11,
   "metadata": {},
   "outputs": [],
   "source": [
    "from nltk.tokenize import TweetTokenizer\n",
    "from nltk.corpus import stopwords\n",
    "\n",
    "tweet = TweetTokenizer(preserve_case=False, strip_handles=True, reduce_len=True)\n",
    "stopwords = set(stopwords.words('english'))"
   ]
  },
  {
   "cell_type": "code",
   "execution_count": 12,
   "metadata": {},
   "outputs": [],
   "source": [
    "data[\"review_text\"] = data[\"review_text\"].transform(tweet.tokenize)"
   ]
  },
  {
   "cell_type": "code",
   "execution_count": 13,
   "metadata": {},
   "outputs": [],
   "source": [
    "# Remove stopwords"
   ]
  },
  {
   "cell_type": "code",
   "execution_count": 14,
   "metadata": {},
   "outputs": [],
   "source": [
    "data[\"review_text\"] = data[\"review_text\"].transform(lambda x: [token for token in x if not token in stopwords])"
   ]
  },
  {
   "cell_type": "code",
   "execution_count": 15,
   "metadata": {},
   "outputs": [],
   "source": [
    "# Checkpoint"
   ]
  },
  {
   "cell_type": "code",
   "execution_count": 16,
   "metadata": {},
   "outputs": [
    {
     "data": {
      "text/html": [
       "<div>\n",
       "<style scoped>\n",
       "    .dataframe tbody tr th:only-of-type {\n",
       "        vertical-align: middle;\n",
       "    }\n",
       "\n",
       "    .dataframe tbody tr th {\n",
       "        vertical-align: top;\n",
       "    }\n",
       "\n",
       "    .dataframe thead th {\n",
       "        text-align: right;\n",
       "    }\n",
       "</style>\n",
       "<table border=\"1\" class=\"dataframe\">\n",
       "  <thead>\n",
       "    <tr style=\"text-align: right;\">\n",
       "      <th></th>\n",
       "      <th>0</th>\n",
       "      <th>review_text</th>\n",
       "    </tr>\n",
       "  </thead>\n",
       "  <tbody>\n",
       "    <tr>\n",
       "      <th>0</th>\n",
       "      <td>at&amp;t</td>\n",
       "      <td>[ive, apple, since, day, 1, 2007, x, far, best...</td>\n",
       "    </tr>\n",
       "    <tr>\n",
       "      <th>1</th>\n",
       "      <td>at&amp;t</td>\n",
       "      <td>[went, 6, matter, transfer, one, phone, anothe...</td>\n",
       "    </tr>\n",
       "    <tr>\n",
       "      <th>2</th>\n",
       "      <td>at&amp;t</td>\n",
       "      <td>[love, phone, upgrades, however, fragile, diff...</td>\n",
       "    </tr>\n",
       "    <tr>\n",
       "      <th>3</th>\n",
       "      <td>at&amp;t</td>\n",
       "      <td>[super, excite, getting, phone, preordered, wa...</td>\n",
       "    </tr>\n",
       "    <tr>\n",
       "      <th>4</th>\n",
       "      <td>at&amp;t</td>\n",
       "      <td>[hype, substance, facial, recognition, system,...</td>\n",
       "    </tr>\n",
       "    <tr>\n",
       "      <th>5</th>\n",
       "      <td>at&amp;t</td>\n",
       "      <td>[saw, first, ad, iphone, x, like, want, phone,...</td>\n",
       "    </tr>\n",
       "    <tr>\n",
       "      <th>6</th>\n",
       "      <td>at&amp;t</td>\n",
       "      <td>[cant, understand, negative, reviews, owned, e...</td>\n",
       "    </tr>\n",
       "    <tr>\n",
       "      <th>7</th>\n",
       "      <td>at&amp;t</td>\n",
       "      <td>[picked, x, release, date, worried, home, butt...</td>\n",
       "    </tr>\n",
       "    <tr>\n",
       "      <th>8</th>\n",
       "      <td>at&amp;t</td>\n",
       "      <td>[durable, glass, ever, laugh, attached, pic, i...</td>\n",
       "    </tr>\n",
       "    <tr>\n",
       "      <th>9</th>\n",
       "      <td>at&amp;t</td>\n",
       "      <td>[within, hour, getting, phone, setting, saw, t...</td>\n",
       "    </tr>\n",
       "    <tr>\n",
       "      <th>472</th>\n",
       "      <td>bestbuy</td>\n",
       "      <td>[iphone, 10, nice, phone, new, processorcpu, f...</td>\n",
       "    </tr>\n",
       "    <tr>\n",
       "      <th>473</th>\n",
       "      <td>bestbuy</td>\n",
       "      <td>[iphone, x, really, first, big, upgrade, apple...</td>\n",
       "    </tr>\n",
       "    <tr>\n",
       "      <th>474</th>\n",
       "      <td>bestbuy</td>\n",
       "      <td>[almost, one, week, love, new, phone, pleased,...</td>\n",
       "    </tr>\n",
       "    <tr>\n",
       "      <th>475</th>\n",
       "      <td>bestbuy</td>\n",
       "      <td>[good, home, button, become, mortal, enemies, ...</td>\n",
       "    </tr>\n",
       "    <tr>\n",
       "      <th>476</th>\n",
       "      <td>bestbuy</td>\n",
       "      <td>[upgraded, iphone, 6, held, x, hubby, 7, wasnt...</td>\n",
       "    </tr>\n",
       "    <tr>\n",
       "      <th>477</th>\n",
       "      <td>bestbuy</td>\n",
       "      <td>[device, operates, really, smoothly, fast, flu...</td>\n",
       "    </tr>\n",
       "    <tr>\n",
       "      <th>478</th>\n",
       "      <td>bestbuy</td>\n",
       "      <td>[ive, impressed, design, feel, phone, build, q...</td>\n",
       "    </tr>\n",
       "    <tr>\n",
       "      <th>479</th>\n",
       "      <td>bestbuy</td>\n",
       "      <td>[ive, owned, iphone, since, original, launched...</td>\n",
       "    </tr>\n",
       "    <tr>\n",
       "      <th>480</th>\n",
       "      <td>bestbuy</td>\n",
       "      <td>[iphone, x, great, multitasking, device, signi...</td>\n",
       "    </tr>\n",
       "    <tr>\n",
       "      <th>481</th>\n",
       "      <td>bestbuy</td>\n",
       "      <td>[new, iphone, x, great, many, ways, could, fin...</td>\n",
       "    </tr>\n",
       "  </tbody>\n",
       "</table>\n",
       "</div>"
      ],
      "text/plain": [
       "           0                                        review_text\n",
       "0       at&t  [ive, apple, since, day, 1, 2007, x, far, best...\n",
       "1       at&t  [went, 6, matter, transfer, one, phone, anothe...\n",
       "2       at&t  [love, phone, upgrades, however, fragile, diff...\n",
       "3       at&t  [super, excite, getting, phone, preordered, wa...\n",
       "4       at&t  [hype, substance, facial, recognition, system,...\n",
       "5       at&t  [saw, first, ad, iphone, x, like, want, phone,...\n",
       "6       at&t  [cant, understand, negative, reviews, owned, e...\n",
       "7       at&t  [picked, x, release, date, worried, home, butt...\n",
       "8       at&t  [durable, glass, ever, laugh, attached, pic, i...\n",
       "9       at&t  [within, hour, getting, phone, setting, saw, t...\n",
       "472  bestbuy  [iphone, 10, nice, phone, new, processorcpu, f...\n",
       "473  bestbuy  [iphone, x, really, first, big, upgrade, apple...\n",
       "474  bestbuy  [almost, one, week, love, new, phone, pleased,...\n",
       "475  bestbuy  [good, home, button, become, mortal, enemies, ...\n",
       "476  bestbuy  [upgraded, iphone, 6, held, x, hubby, 7, wasnt...\n",
       "477  bestbuy  [device, operates, really, smoothly, fast, flu...\n",
       "478  bestbuy  [ive, impressed, design, feel, phone, build, q...\n",
       "479  bestbuy  [ive, owned, iphone, since, original, launched...\n",
       "480  bestbuy  [iphone, x, great, multitasking, device, signi...\n",
       "481  bestbuy  [new, iphone, x, great, many, ways, could, fin..."
      ]
     },
     "execution_count": 16,
     "metadata": {},
     "output_type": "execute_result"
    }
   ],
   "source": [
    "data.groupby(\"0\").head(10)"
   ]
  },
  {
   "cell_type": "code",
   "execution_count": 17,
   "metadata": {},
   "outputs": [],
   "source": [
    "# First attempt"
   ]
  },
  {
   "cell_type": "code",
   "execution_count": 18,
   "metadata": {},
   "outputs": [],
   "source": [
    "from nltk.stem.snowball import SnowballStemmer"
   ]
  },
  {
   "cell_type": "code",
   "execution_count": 19,
   "metadata": {},
   "outputs": [],
   "source": [
    "stemmer = SnowballStemmer('english')\n",
    "\n",
    "def stemming(tokens):\n",
    "    excluded = set(['iphone'])\n",
    "    return [stemmer.stem(token) if token not in excluded else token for token in tokens]"
   ]
  },
  {
   "cell_type": "code",
   "execution_count": 20,
   "metadata": {},
   "outputs": [
    {
     "data": {
      "text/plain": [
       "0       [ive, appl, sinc, day, 1, 2007, x, far, best, ...\n",
       "1       [went, 6, matter, transfer, one, phone, anoth,...\n",
       "2       [love, phone, upgrad, howev, fragil, difficult...\n",
       "3       [super, excit, get, phone, preorder, wait, anx...\n",
       "4       [hype, substanc, facial, recognit, system, nic...\n",
       "5       [saw, first, ad, iphone, x, like, want, phone,...\n",
       "6       [cant, understand, negat, review, own, everi, ...\n",
       "7       [pick, x, releas, date, worri, home, button, w...\n",
       "8       [durabl, glass, ever, laugh, attach, pic, ipho...\n",
       "9       [within, hour, get, phone, set, saw, there, 8m...\n",
       "10      [appl, done, 4k, 60fps, 4k, 24fps, one, even, ...\n",
       "11      [like, iphon, ive, own, phone, function, perfe...\n",
       "12      [respond, comment, earlier, post, iphone, x, s...\n",
       "13      [surf, internet, realli, truli, fast, almost, ...\n",
       "14      [admit, scare, order, phone, went, far, make, ...\n",
       "15      [hate, new, phone, need, remodel, everyth, thi...\n",
       "16      [love, screen, clariti, im, hard, time, let, g...\n",
       "17      [ive, 10, year, samsung, user, fell, love, iph...\n",
       "18      [iphone, x, huge, step, iphone, 7, plus, didnt...\n",
       "19      [hard, get, use, new, iphone, featur, mani, ch...\n",
       "20      [truli, love, x, mani, iphon, upgrad, 7, plus,...\n",
       "21      [phone, larger, previous, iphon, howev, screen...\n",
       "22      [heard, whistl, bell, regard, iphone, x, littl...\n",
       "23      [everi, iphone, sinc, first, and, galaxi, phon...\n",
       "24      [short, sweet, absolut, best, best, love, face...\n",
       "25      [phone, around, incred, ridicul, 4k, record, b...\n",
       "26      [first, ill, appl, head, forev, x, lack, bette...\n",
       "27      [hesit, purchas, new, iphone, x, thought, lack...\n",
       "28      [iphone, x, realli, piec, garbag, fill, ridicu...\n",
       "29      [love, littl, learn, curv, love, littl, smalle...\n",
       "                              ...                        \n",
       "5668     [love, phone, small, phone, big, screw, perfect]\n",
       "5669    [look, assum, investig, phone, spec, great, ph...\n",
       "5670    [almost, nice, galaxi, s8, +, got, gift, appl,...\n",
       "5671    [love, phone, fast, phone, best, buy, best, pl...\n",
       "5672    [get, new, iphone, year, time, even, though, i...\n",
       "5673    [realli, like, upgrad, way, look, got, 8, plus...\n",
       "5674    [upgrad, die, 6, +, anyth, would, better, im, ...\n",
       "5675    [love, spec, new, iphone, x, special, touch, i...\n",
       "5676    [aweom, phone, dont, even, miss, home, button,...\n",
       "5677    [work, make, call, play, line, go, chat, room,...\n",
       "5678    [fade, work, like, magic, guestur, world, expe...\n",
       "5679         [love, facial, recognit, everyth, iphone, x]\n",
       "5680    [expect, phone, amaz, secur, aspect, phone, al...\n",
       "5681    [iphone, x, realli, nice, convient, everyday, ...\n",
       "5682    [love, new, design, face, id, work, perfect, c...\n",
       "5683        [number, one, talk, mobil, phone, top, devic]\n",
       "5684    [best, design, best, screen, best, technolog, ...\n",
       "5685    [love, love, love, phone, impress, lol, feel, ...\n",
       "5686                  [appl, believ, truli, believ, n, x]\n",
       "5687    [appl, regain, control, next, gen, mobil, phon...\n",
       "5688                [amaz, display, perform, love, phone]\n",
       "5689    [amaz, iphone, best, smart, phone, market, today]\n",
       "5690    [own, iphone, x, grand, total, 26, hour, retur...\n",
       "5691    [high, hope, compar, actual, screen, size, plu...\n",
       "5692    [work, great, great, display, better, app, optim]\n",
       "5693    [great, devic, lot, fun, beauti, imag, great, ...\n",
       "5694    [im, use, iphone, plus, plus, good, luck, watc...\n",
       "5695    [wait, long, upgrad, iphone, 6, plus, &, happi...\n",
       "5696    [definit, differ, get, use, bottom, line, fast...\n",
       "5697    [iphone, key, futur, inov, way, ahead, time, p...\n",
       "Name: review_text, Length: 5698, dtype: object"
      ]
     },
     "execution_count": 20,
     "metadata": {},
     "output_type": "execute_result"
    }
   ],
   "source": [
    "data[\"review_text\"].transform(stemming)"
   ]
  },
  {
   "cell_type": "code",
   "execution_count": 21,
   "metadata": {},
   "outputs": [],
   "source": [
    "# Second attempt, yay"
   ]
  },
  {
   "cell_type": "code",
   "execution_count": 22,
   "metadata": {},
   "outputs": [],
   "source": [
    "from nltk.stem import WordNetLemmatizer\n",
    "lemmatizer = WordNetLemmatizer()"
   ]
  },
  {
   "cell_type": "code",
   "execution_count": 23,
   "metadata": {},
   "outputs": [],
   "source": [
    "def lemming(tokens):\n",
    "    return [lemmatizer.lemmatize(token, pos=\"v\") for token in tokens]"
   ]
  },
  {
   "cell_type": "code",
   "execution_count": 24,
   "metadata": {},
   "outputs": [],
   "source": [
    "data[\"review_text\"] = data[\"review_text\"].transform(lemming)"
   ]
  },
  {
   "cell_type": "code",
   "execution_count": 25,
   "metadata": {},
   "outputs": [
    {
     "data": {
      "text/html": [
       "<div>\n",
       "<style scoped>\n",
       "    .dataframe tbody tr th:only-of-type {\n",
       "        vertical-align: middle;\n",
       "    }\n",
       "\n",
       "    .dataframe tbody tr th {\n",
       "        vertical-align: top;\n",
       "    }\n",
       "\n",
       "    .dataframe thead th {\n",
       "        text-align: right;\n",
       "    }\n",
       "</style>\n",
       "<table border=\"1\" class=\"dataframe\">\n",
       "  <thead>\n",
       "    <tr style=\"text-align: right;\">\n",
       "      <th></th>\n",
       "      <th>0</th>\n",
       "      <th>review_text</th>\n",
       "    </tr>\n",
       "  </thead>\n",
       "  <tbody>\n",
       "    <tr>\n",
       "      <th>0</th>\n",
       "      <td>at&amp;t</td>\n",
       "      <td>[ive, apple, since, day, 1, 2007, x, far, best...</td>\n",
       "    </tr>\n",
       "    <tr>\n",
       "      <th>1</th>\n",
       "      <td>at&amp;t</td>\n",
       "      <td>[go, 6, matter, transfer, one, phone, another,...</td>\n",
       "    </tr>\n",
       "    <tr>\n",
       "      <th>2</th>\n",
       "      <td>at&amp;t</td>\n",
       "      <td>[love, phone, upgrade, however, fragile, diffi...</td>\n",
       "    </tr>\n",
       "    <tr>\n",
       "      <th>3</th>\n",
       "      <td>at&amp;t</td>\n",
       "      <td>[super, excite, get, phone, preordered, wait, ...</td>\n",
       "    </tr>\n",
       "    <tr>\n",
       "      <th>4</th>\n",
       "      <td>at&amp;t</td>\n",
       "      <td>[hype, substance, facial, recognition, system,...</td>\n",
       "    </tr>\n",
       "    <tr>\n",
       "      <th>5</th>\n",
       "      <td>at&amp;t</td>\n",
       "      <td>[saw, first, ad, iphone, x, like, want, phone,...</td>\n",
       "    </tr>\n",
       "    <tr>\n",
       "      <th>6</th>\n",
       "      <td>at&amp;t</td>\n",
       "      <td>[cant, understand, negative, review, own, ever...</td>\n",
       "    </tr>\n",
       "    <tr>\n",
       "      <th>7</th>\n",
       "      <td>at&amp;t</td>\n",
       "      <td>[pick, x, release, date, worry, home, button, ...</td>\n",
       "    </tr>\n",
       "    <tr>\n",
       "      <th>8</th>\n",
       "      <td>at&amp;t</td>\n",
       "      <td>[durable, glass, ever, laugh, attach, pic, iph...</td>\n",
       "    </tr>\n",
       "    <tr>\n",
       "      <th>9</th>\n",
       "      <td>at&amp;t</td>\n",
       "      <td>[within, hour, get, phone, set, saw, theres, 8...</td>\n",
       "    </tr>\n",
       "    <tr>\n",
       "      <th>472</th>\n",
       "      <td>bestbuy</td>\n",
       "      <td>[iphone, 10, nice, phone, new, processorcpu, f...</td>\n",
       "    </tr>\n",
       "    <tr>\n",
       "      <th>473</th>\n",
       "      <td>bestbuy</td>\n",
       "      <td>[iphone, x, really, first, big, upgrade, apple...</td>\n",
       "    </tr>\n",
       "    <tr>\n",
       "      <th>474</th>\n",
       "      <td>bestbuy</td>\n",
       "      <td>[almost, one, week, love, new, phone, please, ...</td>\n",
       "    </tr>\n",
       "    <tr>\n",
       "      <th>475</th>\n",
       "      <td>bestbuy</td>\n",
       "      <td>[good, home, button, become, mortal, enemies, ...</td>\n",
       "    </tr>\n",
       "    <tr>\n",
       "      <th>476</th>\n",
       "      <td>bestbuy</td>\n",
       "      <td>[upgrade, iphone, 6, hold, x, hubby, 7, wasnt,...</td>\n",
       "    </tr>\n",
       "    <tr>\n",
       "      <th>477</th>\n",
       "      <td>bestbuy</td>\n",
       "      <td>[device, operate, really, smoothly, fast, flui...</td>\n",
       "    </tr>\n",
       "    <tr>\n",
       "      <th>478</th>\n",
       "      <td>bestbuy</td>\n",
       "      <td>[ive, impress, design, feel, phone, build, qua...</td>\n",
       "    </tr>\n",
       "    <tr>\n",
       "      <th>479</th>\n",
       "      <td>bestbuy</td>\n",
       "      <td>[ive, own, iphone, since, original, launch, 10...</td>\n",
       "    </tr>\n",
       "    <tr>\n",
       "      <th>480</th>\n",
       "      <td>bestbuy</td>\n",
       "      <td>[iphone, x, great, multitasking, device, signi...</td>\n",
       "    </tr>\n",
       "    <tr>\n",
       "      <th>481</th>\n",
       "      <td>bestbuy</td>\n",
       "      <td>[new, iphone, x, great, many, ways, could, fin...</td>\n",
       "    </tr>\n",
       "  </tbody>\n",
       "</table>\n",
       "</div>"
      ],
      "text/plain": [
       "           0                                        review_text\n",
       "0       at&t  [ive, apple, since, day, 1, 2007, x, far, best...\n",
       "1       at&t  [go, 6, matter, transfer, one, phone, another,...\n",
       "2       at&t  [love, phone, upgrade, however, fragile, diffi...\n",
       "3       at&t  [super, excite, get, phone, preordered, wait, ...\n",
       "4       at&t  [hype, substance, facial, recognition, system,...\n",
       "5       at&t  [saw, first, ad, iphone, x, like, want, phone,...\n",
       "6       at&t  [cant, understand, negative, review, own, ever...\n",
       "7       at&t  [pick, x, release, date, worry, home, button, ...\n",
       "8       at&t  [durable, glass, ever, laugh, attach, pic, iph...\n",
       "9       at&t  [within, hour, get, phone, set, saw, theres, 8...\n",
       "472  bestbuy  [iphone, 10, nice, phone, new, processorcpu, f...\n",
       "473  bestbuy  [iphone, x, really, first, big, upgrade, apple...\n",
       "474  bestbuy  [almost, one, week, love, new, phone, please, ...\n",
       "475  bestbuy  [good, home, button, become, mortal, enemies, ...\n",
       "476  bestbuy  [upgrade, iphone, 6, hold, x, hubby, 7, wasnt,...\n",
       "477  bestbuy  [device, operate, really, smoothly, fast, flui...\n",
       "478  bestbuy  [ive, impress, design, feel, phone, build, qua...\n",
       "479  bestbuy  [ive, own, iphone, since, original, launch, 10...\n",
       "480  bestbuy  [iphone, x, great, multitasking, device, signi...\n",
       "481  bestbuy  [new, iphone, x, great, many, ways, could, fin..."
      ]
     },
     "execution_count": 25,
     "metadata": {},
     "output_type": "execute_result"
    }
   ],
   "source": [
    "data.groupby(\"0\").head(10)"
   ]
  },
  {
   "cell_type": "code",
   "execution_count": 26,
   "metadata": {},
   "outputs": [],
   "source": [
    "# Custom tokens\n",
    "def custom_lemming(tokens):\n",
    "    processed = []\n",
    "    append = processed.append\n",
    "    for i, token in enumerate(tokens):\n",
    "        if token == \"iphone\":\n",
    "            continue\n",
    "        if token == \"x\" or token == \"10\":\n",
    "            append(\"iphoneX\")\n",
    "            continue\n",
    "        if token == \"6\":\n",
    "            if i>0 and tokens[i-1] == \"iphone\":\n",
    "                append(\"iphone6\")\n",
    "            continue\n",
    "        if token == \"7\":\n",
    "            if i>0 and tokens[i-1] == \"iphone\":\n",
    "                append(\"iphone7\")\n",
    "            continue\n",
    "        if token == \"face\":\n",
    "            append(\"faceid\")\n",
    "            continue\n",
    "        if token == \"id\":\n",
    "            if i>0 and tokens[i-1] == \"face\":\n",
    "                append(\"faceid\")\n",
    "            continue\n",
    "        append(token)\n",
    "    return processed"
   ]
  },
  {
   "cell_type": "code",
   "execution_count": 27,
   "metadata": {},
   "outputs": [],
   "source": [
    "data[\"review_text\"] = data[\"review_text\"].transform(custom_lemming)"
   ]
  },
  {
   "cell_type": "code",
   "execution_count": 28,
   "metadata": {},
   "outputs": [
    {
     "data": {
      "text/html": [
       "<div>\n",
       "<style scoped>\n",
       "    .dataframe tbody tr th:only-of-type {\n",
       "        vertical-align: middle;\n",
       "    }\n",
       "\n",
       "    .dataframe tbody tr th {\n",
       "        vertical-align: top;\n",
       "    }\n",
       "\n",
       "    .dataframe thead th {\n",
       "        text-align: right;\n",
       "    }\n",
       "</style>\n",
       "<table border=\"1\" class=\"dataframe\">\n",
       "  <thead>\n",
       "    <tr style=\"text-align: right;\">\n",
       "      <th></th>\n",
       "      <th>0</th>\n",
       "      <th>review_text</th>\n",
       "    </tr>\n",
       "  </thead>\n",
       "  <tbody>\n",
       "    <tr>\n",
       "      <th>0</th>\n",
       "      <td>at&amp;t</td>\n",
       "      <td>[ive, apple, since, day, 1, 2007, iphoneX, far...</td>\n",
       "    </tr>\n",
       "    <tr>\n",
       "      <th>1</th>\n",
       "      <td>at&amp;t</td>\n",
       "      <td>[go, matter, transfer, one, phone, another, ne...</td>\n",
       "    </tr>\n",
       "    <tr>\n",
       "      <th>2</th>\n",
       "      <td>at&amp;t</td>\n",
       "      <td>[love, phone, upgrade, however, fragile, diffi...</td>\n",
       "    </tr>\n",
       "    <tr>\n",
       "      <th>3</th>\n",
       "      <td>at&amp;t</td>\n",
       "      <td>[super, excite, get, phone, preordered, wait, ...</td>\n",
       "    </tr>\n",
       "    <tr>\n",
       "      <th>4</th>\n",
       "      <td>at&amp;t</td>\n",
       "      <td>[hype, substance, facial, recognition, system,...</td>\n",
       "    </tr>\n",
       "  </tbody>\n",
       "</table>\n",
       "</div>"
      ],
      "text/plain": [
       "      0                                        review_text\n",
       "0  at&t  [ive, apple, since, day, 1, 2007, iphoneX, far...\n",
       "1  at&t  [go, matter, transfer, one, phone, another, ne...\n",
       "2  at&t  [love, phone, upgrade, however, fragile, diffi...\n",
       "3  at&t  [super, excite, get, phone, preordered, wait, ...\n",
       "4  at&t  [hype, substance, facial, recognition, system,..."
      ]
     },
     "execution_count": 28,
     "metadata": {},
     "output_type": "execute_result"
    }
   ],
   "source": [
    "# TF IDF\n",
    "data.head()"
   ]
  },
  {
   "cell_type": "code",
   "execution_count": 32,
   "metadata": {},
   "outputs": [],
   "source": [
    "from sklearn.feature_extraction.text import TfidfVectorizer\n",
    "tfidf = TfidfVectorizer(max_features=70, norm='l2', min_df=0.08, max_df=0.7, ngram_range=(1, 1))"
   ]
  },
  {
   "cell_type": "code",
   "execution_count": 37,
   "metadata": {},
   "outputs": [],
   "source": [
    "tfidf_matrix = tfidf.fit_transform(data[\"review_text\"].transform(lambda x: ' '.join(x)))"
   ]
  },
  {
   "cell_type": "code",
   "execution_count": 38,
   "metadata": {},
   "outputs": [
    {
     "data": {
      "text/plain": [
       "['amaze',\n",
       " 'apple',\n",
       " 'best',\n",
       " 'better',\n",
       " 'button',\n",
       " 'buy',\n",
       " 'camera',\n",
       " 'easy',\n",
       " 'faceid',\n",
       " 'far',\n",
       " 'fast',\n",
       " 'feature',\n",
       " 'get',\n",
       " 'good',\n",
       " 'great',\n",
       " 'home',\n",
       " 'iphonex',\n",
       " 'like',\n",
       " 'love',\n",
       " 'much',\n",
       " 'new',\n",
       " 'one',\n",
       " 'phone',\n",
       " 'plus',\n",
       " 'really',\n",
       " 'recognition',\n",
       " 'screen',\n",
       " 'size',\n",
       " 'take',\n",
       " 'upgrade',\n",
       " 'use',\n",
       " 'work',\n",
       " 'would']"
      ]
     },
     "execution_count": 38,
     "metadata": {},
     "output_type": "execute_result"
    }
   ],
   "source": [
    "tfidf.get_feature_names()"
   ]
  }
 ],
 "metadata": {
  "kernelspec": {
   "display_name": "Python 3",
   "language": "python",
   "name": "python3"
  },
  "language_info": {
   "codemirror_mode": {
    "name": "ipython",
    "version": 3
   },
   "file_extension": ".py",
   "mimetype": "text/x-python",
   "name": "python",
   "nbconvert_exporter": "python",
   "pygments_lexer": "ipython3",
   "version": "3.6.4"
  }
 },
 "nbformat": 4,
 "nbformat_minor": 2
}
